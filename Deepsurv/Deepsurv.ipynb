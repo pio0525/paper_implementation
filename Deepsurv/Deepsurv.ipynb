{
 "cells": [
  {
   "cell_type": "code",
   "execution_count": 110,
   "metadata": {},
   "outputs": [],
   "source": [
    "import tensorflow as tf\n",
    "import numpy as np\n",
    "import pandas as pd\n",
    "from matplotlib import pyplot as plt\n",
    "from scipy.interpolate import interp1d\n",
    "from pycox.datasets import gbsg\n",
    "from sklearn.preprocessing import StandardScaler\n",
    "from sklearn_pandas import DataFrameMapper"
   ]
  },
  {
   "cell_type": "code",
   "execution_count": 111,
   "metadata": {},
   "outputs": [],
   "source": [
    "df_train = gbsg.read_df()\n",
    "df_train.columns = [\"horTh\", \"tgrade\", \"menostat\", \"age\", \"pnodes\", \"progrec\", \"est_rec\", \"duration\", \"event\"]\n",
    "df_test = df_train.sample(frac=0.2)\n",
    "df_train = df_train.drop(df_test.index)\n",
    "df_val = df_train.sample(frac=0.2)\n",
    "df_train = df_train.drop(df_val.index)\n"
   ]
  },
  {
   "cell_type": "code",
   "execution_count": 112,
   "metadata": {},
   "outputs": [],
   "source": [
    "from sklearn.preprocessing import StandardScaler\n",
    "scaler = StandardScaler()\n",
    "\n",
    "df_train[[\"horTh\", \"tgrade\", \"menostat\", \"age\", \"pnodes\", \"progrec\", \"est_rec\"]] = scaler.fit_transform(df_train[[\"horTh\", \"tgrade\", \"menostat\", \"age\", \"pnodes\", \"progrec\", \"est_rec\"]])\n",
    "df_val[[\"horTh\", \"tgrade\", \"menostat\", \"age\", \"pnodes\", \"progrec\", \"est_rec\"]] = scaler.transform(df_val[[\"horTh\", \"tgrade\", \"menostat\", \"age\", \"pnodes\", \"progrec\", \"est_rec\"]])\n",
    "df_test[[\"horTh\", \"tgrade\", \"menostat\", \"age\", \"pnodes\", \"progrec\", \"est_rec\"]] = scaler.transform(df_test[[\"horTh\", \"tgrade\", \"menostat\", \"age\", \"pnodes\", \"progrec\", \"est_rec\"]])\n"
   ]
  },
  {
   "cell_type": "code",
   "execution_count": 113,
   "metadata": {},
   "outputs": [],
   "source": [
    "class deepsurv() :\n",
    "    def __init__(self,df,duration_col_name,event_col_name,hidden_dim,drop_out_rate,lr,l2=0) :\n",
    "        # for later\n",
    "        self.table = None\n",
    "        self.survival0 = None\n",
    "        self.drop_out_rate = drop_out_rate\n",
    "        \n",
    "        # Data Set related\n",
    "        self.df = df\n",
    "        self.duration_col_name = duration_col_name\n",
    "        self.event_col_name = event_col_name\n",
    "\n",
    "        \n",
    "        # model(nn) structure related\n",
    "        self.hidden_dim = hidden_dim\n",
    "        self.l2=l2\n",
    "        \n",
    "        # optimizer & learning rate\n",
    "        self.lr = lr\n",
    "        self.optimizer = tf.keras.optimizers.Adam(learning_rate=self.lr)\n",
    "        \n",
    "\n",
    "    ## Spliting X(covariates) & T(time,duration) & E(event indicator) from Original Dataset\n",
    "    ## Changing DataType to float32 -> Tensorflowable\n",
    "    \n",
    "    def fit_data(self,df=None) :\n",
    "        if df is None : \n",
    "            df = self.df\n",
    "            \n",
    "        # sorting data - descending by duration\n",
    "        df = df.sort_values(by=self.duration_col_name,ascending=False)\n",
    "        \n",
    "        # Split Data into X : covariates, T : duration, E: event\n",
    "        X = df.drop([self.duration_col_name,self.event_col_name],axis=1)\n",
    "        T = df[self.duration_col_name]\n",
    "        E = df[self.event_col_name]\n",
    "        \n",
    "        # dtype to float32\n",
    "        self.X = tf.cast(X,dtype=tf.float32)\n",
    "        self.T = tf.cast(T,dtype=tf.float32)\n",
    "        self.E = tf.cast(E,dtype=tf.float32)\n",
    "        \n",
    "        # k = number of input variables\n",
    "        self.k = self.X.shape[1]\n",
    "        \n",
    "        return self.X, self.T, self.E\n",
    "\n",
    "                \n",
    "    ## fit_data와 동일. validation set or test set 만들 때 사용        \n",
    "    def transform_data(self, df) :\n",
    "        df = df.sort_values(by=self.duration_col_name,ascending=False)\n",
    "        \n",
    "        X = df.drop([self.duration_col_name,self.event_col_name],axis=1)\n",
    "        T = df[self.duration_col_name]\n",
    "        E = df[self.event_col_name]\n",
    "    \n",
    "        X = tf.cast(X,dtype=tf.float32)\n",
    "        T = tf.cast(T,dtype=tf.float32)\n",
    "        E = tf.cast(E,dtype=tf.float32)\n",
    "        \n",
    "        return X,T,E\n",
    "            \n",
    "    \n",
    "    ## build model - nn model with hidden layers\n",
    "    def fit_model(self,hidden_dim=None,l1=None,drop_out_rate = None ,l2=None) :\n",
    "        if hidden_dim is None : \n",
    "            hidden_dim = self.hidden_dim\n",
    "        if drop_out_rate is None :\n",
    "            drop_out_rate = self.drop_out_rate\n",
    "        \n",
    "        nn = tf.keras.models.Sequential()\n",
    "        nn.add(tf.keras.Input(shape=(self.k,)))\n",
    "        for dims in hidden_dim :\n",
    "            nn.add(tf.keras.layers.Dense(dims,activation = 'sigmoid')) \n",
    "            nn.add(tf.keras.layers.Dropout(rate=drop_out_rate))\n",
    "        nn.add(tf.keras.layers.Dense(1,use_bias=False)) # no activation function applied at the end\n",
    "        \n",
    "        self.model = nn\n",
    "    \n",
    "    # Training Related\n",
    "    ## -log likelihood(theta) \n",
    "    def negative_log_likelihood(self, model=None, X=None, T=None, E=None) :\n",
    "        if model is None :\n",
    "            model=self.model \n",
    "        if X is None : \n",
    "            X=self.X \n",
    "        if T is None : \n",
    "            T=self.T\n",
    "        if E is None : \n",
    "            E=self.E\n",
    "        \n",
    "        g = model(X)\n",
    "        log_h_cumsum = tf.math.log(tf.cumsum(tf.exp(g)))\n",
    "        E = tf.reshape(E,[-1,1])\n",
    "        \n",
    "        return -tf.math.divide(tf.math.reduce_sum(tf.multiply(E,tf.subtract(g,log_h_cumsum))), tf.math.reduce_sum(E))\n",
    "    \n",
    "    ## L2 Regularization \n",
    "    def l2_regularization(self, model=None, l2=None) :\n",
    "        if model is None :\n",
    "            model = self.model\n",
    "        if l2 is None :\n",
    "            l2 = self.l2\n",
    "                \n",
    "        return tf.add_n([ tf.nn.l2_loss(v) for v in model.trainable_variables ]) * l2\n",
    "\n",
    "    ## fit(training) - GD type optimization / returns best model(best validation_loss)\n",
    "    ## if no validation dataset provided, validation set == train set\n",
    "    def fit(self,model=None, X=None, T=None, E=None,X_val=None, T_val=None, E_val=None,\n",
    "            l2=None,epoch=10,verbose=False,plot=True) :\n",
    "        if model is None :\n",
    "            model=self.model \n",
    "        if X is None : \n",
    "            X=self.X \n",
    "        if T is None : \n",
    "            T=self.T\n",
    "        if E is None : \n",
    "            E=self.E\n",
    "        if X_val is None : \n",
    "            X_val=self.X \n",
    "        if T_val is None : \n",
    "            T_val=self.T\n",
    "        if E is None : \n",
    "            E_val=self.E\n",
    "\n",
    "        if l2 is None :\n",
    "            l2 = self.l2\n",
    "\n",
    "        best_model = model\n",
    "        best_loss = self.negative_log_likelihood(model=model, X=X_val,T=T_val,E=E_val).numpy() + self.l2_regularization(model,l2).numpy()\n",
    "        \n",
    "        train_loss_l = [] ; val_loss_l = []\n",
    "        for i in range(epoch) :\n",
    "            with tf.GradientTape() as tape:\n",
    "                loss_value = self.negative_log_likelihood(model,X,T,E) + self.l2_regularization(model,l2)\n",
    "\n",
    "                current_gradient = tape.gradient(loss_value, model.trainable_variables)\n",
    "                \n",
    "                self.optimizer.apply_gradients(zip(current_gradient,model.trainable_variables))\n",
    "                \n",
    "                current_train_loss = self.negative_log_likelihood(model=self.model, X=X,T=T,E=E).numpy() + self.l2_regularization(model,l2).numpy()\n",
    "                current_val_loss = self.negative_log_likelihood(model=model, X=X_val,T=T_val,E=E_val).numpy() + self.l2_regularization(model,l2).numpy()\n",
    "                \n",
    "                train_loss_l.append(current_train_loss)\n",
    "                val_loss_l.append(current_val_loss)\n",
    "                \n",
    "            if verbose :\n",
    "                print(\"%s / %s epoch :\" %(i+1,epoch))\n",
    "                print(\"train_loss: %s, val_loss: %s\" %(current_train_loss,current_val_loss))\n",
    "\n",
    "            if  current_val_loss < best_loss :\n",
    "                best_model = model\n",
    "                best_loss = self.negative_log_likelihood(model=self.model, X=X_val,T=T_val,E=E_val).numpy() + self.l2_regularization(model,l2).numpy()\n",
    "                best_epoch = i\n",
    "                \n",
    "        self.model = best_model\n",
    "        self.train_loss = self.negative_log_likelihood(model=self.model, X=X,T=T,E=E).numpy() + self.l2_regularization(model,l2).numpy()\n",
    "        self.val_loss = self.negative_log_likelihood(model=self.model, X=X_val,T=T_val,E=E_val).numpy() + self.l2_regularization(model,l2).numpy()\n",
    "        \n",
    "        if plot :\n",
    "            plt.plot(range(epoch),train_loss_l)\n",
    "            plt.plot(range(epoch),val_loss_l)\n",
    "            plt.plot(best_epoch,best_loss,'ro') \n",
    "            \n",
    "        #### baseline hazard function!!!!!\n",
    "                \n",
    "    def predict_partial_hazard(self,model=None,X=None) :\n",
    "        if model is None :\n",
    "            model = self.model\n",
    "            \n",
    "        if X is None :\n",
    "            X = self.X\n",
    "        \n",
    "        return np.exp(model.predict(X))\n",
    "    \n",
    "    def fit_table(self,model=None,X=None, T=None, E=None, plot=True, save_table=True) :\n",
    "        if model is None :\n",
    "            model = self.model\n",
    "\n",
    "        if X is None :\n",
    "            X = self.X\n",
    "\n",
    "        if T is None :\n",
    "            T = self.T\n",
    "        \n",
    "        if E is None :\n",
    "            E = self.E\n",
    "            \n",
    "        partial_hazard = self.predict_partial_hazard(model,X)\n",
    "\n",
    "        # Dataframe화\n",
    "        Table = pd.DataFrame.from_dict({'T':T.numpy().flatten(),'E':E.numpy().flatten(),'partial_hazard':partial_hazard.flatten()})\n",
    "        \n",
    "        # 시점별 partial hazard(exp(g(x|theta)) / Event 발생수 모음\n",
    "        Table = Table.groupby('T').agg({'partial_hazard': 'sum', 'E': 'sum'}).sort_index(ascending=False) \n",
    "        \n",
    "        #  \n",
    "        Table = Table.assign(sum_hazard_at_risk=lambda x: x['partial_hazard'].cumsum())\n",
    "        Table = Table.assign(h0=lambda x: x['E']/x['sum_hazard_at_risk']).fillna(0.)\n",
    "        Table = Table.assign(H0=np.flip(np.cumsum(np.flip(Table['h0']))))\n",
    "        Table = Table.assign(S0=np.exp(-Table['H0']))\n",
    "        Table = Table[Table.E != 0] \n",
    "        Table = Table.reset_index()\n",
    "    \n",
    "        if plot :\n",
    "            plt.subplot(1,2,1)\n",
    "            plt.plot(Table['T'],Table['H0'])\n",
    "            plt.title('Cumulative Hazard')\n",
    "            \n",
    "            plt.subplot(1,2,2)\n",
    "            plt.plot(Table['T'],Table['S0'])\n",
    "            plt.title('Cumulative Survival')\n",
    "        \n",
    "        if save_table : \n",
    "            self.table = Table\n",
    "            \n",
    "        return Table\n",
    "    \n",
    "    def fit_baseline_Survival(self,Table=None,t_0=0, t_max=None, s_0=1, s_max=0) :\n",
    "        if Table is None :\n",
    "            if self.table is None :\n",
    "                Table = self.fit_table(save_table=False)\n",
    "            else :\n",
    "                Table = self.table\n",
    "        \n",
    "        if t_max is None :\n",
    "            t_max = 10*np.max(self.T)\n",
    "        \n",
    "        T_fit=Table['T'].append(pd.Series([t_0,t_max])).reset_index(drop=True)\n",
    "        S_fit=Table['S0'].append(pd.Series([s_0,s_max])).reset_index(drop=True)\n",
    "        \n",
    "        baseline_survival = interp1d(T_fit,S_fit,kind = 'linear')\n",
    "        \n",
    "        self.baseline_survival = baseline_survival\n",
    "        return baseline_survival\n",
    "    \n",
    "    def predict_survival(self,X=None, T=None, E=None, model=None, baseline_survival=None) : \n",
    "        if X is None :\n",
    "            X = self.X\n",
    "        if T is None :\n",
    "            T = self.T\n",
    "        if E is None : \n",
    "            E = self.E\n",
    "        if model is None :\n",
    "            model = self.model\n",
    "        if baseline_survival is None :\n",
    "            if self.baseline_survival is None : \n",
    "                baseline_survival = fit_baseline_Survival()\n",
    "            else :\n",
    "                baseline_survival = self.baseline_survival\n",
    "            \n",
    "        g = np.array(model(X)).flatten() #output from model(partial_hazard)\n",
    "        S0 = np.array(baseline_survival(T)) # baseline survival\n",
    "        S = np.power(S0,np.exp(g))\n",
    "        \n",
    "        return S\n",
    "            \n"
   ]
  },
  {
   "cell_type": "markdown",
   "metadata": {},
   "source": [
    "적용 순서\n",
    "1. fit_data # prep (필수)\n",
    "2. fit_model # model structure specification (필수)\n",
    "3. fit # actual training (필수)\n",
    "3. fit_table # To compute baseline Survival\n",
    "4. fit_baseline_survival # compute S0\n",
    "5. predict_survival # compute individual survival probability given $X_i, T_i$, $T_i$ : event time \n",
    "\n",
    "---\n",
    "6. predict"
   ]
  },
  {
   "cell_type": "code",
   "execution_count": 121,
   "metadata": {},
   "outputs": [
    {
     "name": "stdout",
     "output_type": "stream",
     "text": [
      "Model: \"sequential_9\"\n",
      "_________________________________________________________________\n",
      "Layer (type)                 Output Shape              Param #   \n",
      "=================================================================\n",
      "dense_20 (Dense)             (None, 20)                160       \n",
      "_________________________________________________________________\n",
      "dropout_11 (Dropout)         (None, 20)                0         \n",
      "_________________________________________________________________\n",
      "dense_21 (Dense)             (None, 1)                 20        \n",
      "=================================================================\n",
      "Total params: 180\n",
      "Trainable params: 180\n",
      "Non-trainable params: 0\n",
      "_________________________________________________________________\n"
     ]
    }
   ],
   "source": [
    "d = deepsurv(df=df_train,duration_col_name='duration',event_col_name='event',\n",
    "             hidden_dim=[20],drop_out_rate=0.2,lr=0.001,l2=1)\n",
    "\n",
    "d.fit_data()\n",
    "X_train, T_train, E_train = d.transform_data(df_train) \n",
    "X_val, T_val, E_val = d.transform_data(df_val)\n",
    "X_test, T_test, E_test = d.transform_data(df_test)\n",
    "\n",
    "d.fit_model()\n",
    "d.model.summary()\n"
   ]
  },
  {
   "cell_type": "code",
   "execution_count": 122,
   "metadata": {},
   "outputs": [
    {
     "data": {
      "image/png": "[encoded data removed]",
      "text/plain": [
       "<Figure size 432x288 with 1 Axes>"
      ]
     },
     "metadata": {
      "needs_background": "light"
     },
     "output_type": "display_data"
    }
   ],
   "source": [
    "d.fit(X_val = X_val, T_val = T_val, E_val = E_val, epoch=1000)"
   ]
  },
  {
   "cell_type": "code",
   "execution_count": 124,
   "metadata": {},
   "outputs": [
    {
     "data": {
      "text/plain": [
       "<scipy.interpolate.interpolate.interp1d at 0x1f4dad8edb0>"
      ]
     },
     "execution_count": 124,
     "metadata": {},
     "output_type": "execute_result"
    },
    {
     "data": {
      "image/png": "[encoded data removed]",
      "text/plain": [
       "<Figure size 432x288 with 2 Axes>"
      ]
     },
     "metadata": {
      "needs_background": "light"
     },
     "output_type": "display_data"
    }
   ],
   "source": [
    "d.fit_table()\n",
    "d.fit_baseline_Survival()"
   ]
  },
  {
   "cell_type": "markdown",
   "metadata": {},
   "source": [
    "### 성능 비교"
   ]
  },
  {
   "cell_type": "code",
   "execution_count": 125,
   "metadata": {},
   "outputs": [
    {
     "name": "stdout",
     "output_type": "stream",
     "text": [
      "0.6221581625657238\n",
      "0.6326706147772138\n"
     ]
    }
   ],
   "source": [
    "from lifelines.utils import concordance_index\n",
    "print(concordance_index(d.T, -d.predict_partial_hazard(model = None,X = X_train), d.E))\n",
    "print(concordance_index(T_test, -d.predict_partial_hazard(model = None,X = X_test), E_test))\n"
   ]
  },
  {
   "cell_type": "code",
   "execution_count": 126,
   "metadata": {},
   "outputs": [
    {
     "name": "stdout",
     "output_type": "stream",
     "text": [
      "0.6608504656249959\n",
      "0.6481871569002936\n"
     ]
    }
   ],
   "source": [
    "from lifelines import CoxPHFitter\n",
    "cph_breslow = CoxPHFitter(baseline_estimation_method=\"breslow\", n_baseline_knots=5)\n",
    "cph_breslow.fit(df = d.df, duration_col = 'duration', event_col = 'event', show_progress = False)\n",
    "\n",
    "print(concordance_index(d.T, -cph_breslow.predict_partial_hazard(d.X.numpy()), d.E))\n",
    "print(concordance_index(T_val, -cph_breslow.predict_partial_hazard(X_val.numpy()), E_val))"
   ]
  },
  {
   "cell_type": "markdown",
   "metadata": {},
   "source": [
    "### Try with different Dataset"
   ]
  },
  {
   "cell_type": "markdown",
   "metadata": {},
   "source": [
    "#### rotterdam"
   ]
  },
  {
   "cell_type": "markdown",
   "metadata": {},
   "source": [
    "##### Data Loading & Preprocessing"
   ]
  },
  {
   "cell_type": "code",
   "execution_count": 283,
   "metadata": {},
   "outputs": [
    {
     "data": {
      "text/html": [
       "<div>\n",
       "<style scoped>\n",
       "    .dataframe tbody tr th:only-of-type {\n",
       "        vertical-align: middle;\n",
       "    }\n",
       "\n",
       "    .dataframe tbody tr th {\n",
       "        vertical-align: top;\n",
       "    }\n",
       "\n",
       "    .dataframe thead th {\n",
       "        text-align: right;\n",
       "    }\n",
       "</style>\n",
       "<table border=\"1\" class=\"dataframe\">\n",
       "  <thead>\n",
       "    <tr style=\"text-align: right;\">\n",
       "      <th></th>\n",
       "      <th>age</th>\n",
       "      <th>meno</th>\n",
       "      <th>size</th>\n",
       "      <th>grade</th>\n",
       "      <th>nodes</th>\n",
       "      <th>pgr</th>\n",
       "      <th>er</th>\n",
       "      <th>hormon</th>\n",
       "      <th>chemo</th>\n",
       "      <th>rtime</th>\n",
       "      <th>recur</th>\n",
       "      <th>dtime</th>\n",
       "      <th>death</th>\n",
       "    </tr>\n",
       "  </thead>\n",
       "  <tbody>\n",
       "    <tr>\n",
       "      <th>758</th>\n",
       "      <td>49</td>\n",
       "      <td>1</td>\n",
       "      <td>20-50</td>\n",
       "      <td>2</td>\n",
       "      <td>0</td>\n",
       "      <td>0</td>\n",
       "      <td>0</td>\n",
       "      <td>0</td>\n",
       "      <td>0</td>\n",
       "      <td>7042.999986</td>\n",
       "      <td>0</td>\n",
       "      <td>7042.999986</td>\n",
       "      <td>0</td>\n",
       "    </tr>\n",
       "    <tr>\n",
       "      <th>18</th>\n",
       "      <td>51</td>\n",
       "      <td>0</td>\n",
       "      <td>20-50</td>\n",
       "      <td>3</td>\n",
       "      <td>1</td>\n",
       "      <td>14</td>\n",
       "      <td>0</td>\n",
       "      <td>0</td>\n",
       "      <td>0</td>\n",
       "      <td>7027.000049</td>\n",
       "      <td>0</td>\n",
       "      <td>7027.000049</td>\n",
       "      <td>0</td>\n",
       "    </tr>\n",
       "    <tr>\n",
       "      <th>1373</th>\n",
       "      <td>45</td>\n",
       "      <td>0</td>\n",
       "      <td>&lt;=20</td>\n",
       "      <td>3</td>\n",
       "      <td>0</td>\n",
       "      <td>256</td>\n",
       "      <td>0</td>\n",
       "      <td>0</td>\n",
       "      <td>0</td>\n",
       "      <td>2569.999991</td>\n",
       "      <td>1</td>\n",
       "      <td>6885.999965</td>\n",
       "      <td>0</td>\n",
       "    </tr>\n",
       "    <tr>\n",
       "      <th>569</th>\n",
       "      <td>37</td>\n",
       "      <td>0</td>\n",
       "      <td>&lt;=20</td>\n",
       "      <td>3</td>\n",
       "      <td>0</td>\n",
       "      <td>85</td>\n",
       "      <td>20</td>\n",
       "      <td>0</td>\n",
       "      <td>0</td>\n",
       "      <td>6728.999944</td>\n",
       "      <td>0</td>\n",
       "      <td>6728.999944</td>\n",
       "      <td>0</td>\n",
       "    </tr>\n",
       "    <tr>\n",
       "      <th>2695</th>\n",
       "      <td>59</td>\n",
       "      <td>1</td>\n",
       "      <td>20-50</td>\n",
       "      <td>2</td>\n",
       "      <td>0</td>\n",
       "      <td>0</td>\n",
       "      <td>11</td>\n",
       "      <td>0</td>\n",
       "      <td>0</td>\n",
       "      <td>5312.999941</td>\n",
       "      <td>1</td>\n",
       "      <td>6429.999901</td>\n",
       "      <td>0</td>\n",
       "    </tr>\n",
       "  </tbody>\n",
       "</table>\n",
       "</div>"
      ],
      "text/plain": [
       "      age  meno   size  grade  nodes  pgr  er  hormon  chemo        rtime  \\\n",
       "758    49     1  20-50      2      0    0   0       0      0  7042.999986   \n",
       "18     51     0  20-50      3      1   14   0       0      0  7027.000049   \n",
       "1373   45     0   <=20      3      0  256   0       0      0  2569.999991   \n",
       "569    37     0   <=20      3      0   85  20       0      0  6728.999944   \n",
       "2695   59     1  20-50      2      0    0  11       0      0  5312.999941   \n",
       "\n",
       "      recur        dtime  death  \n",
       "758       0  7042.999986      0  \n",
       "18        0  7027.000049      0  \n",
       "1373      1  6885.999965      0  \n",
       "569       0  6728.999944      0  \n",
       "2695      1  6429.999901      0  "
      ]
     },
     "execution_count": 283,
     "metadata": {},
     "output_type": "execute_result"
    }
   ],
   "source": [
    "rotterdam = pd.read_csv(\"G:/내 드라이브/papers_related/data/rotterdam.csv\")\n",
    "rotterdam = rotterdam[['age','meno','size','grade','nodes','pgr','er','hormon','chemo','rtime','recur','dtime','death']]\n",
    "rotterdam = rotterdam.sort_values(by='dtime',ascending=False)\n",
    "\n",
    "rotterdam.head()"
   ]
  },
  {
   "cell_type": "code",
   "execution_count": 286,
   "metadata": {},
   "outputs": [],
   "source": [
    "from sklearn.preprocessing import OneHotEncoder\n",
    "from sklearn.preprocessing import StandardScaler\n",
    "from sklearn.model_selection import train_test_split\n",
    "\n",
    "# Train-Validation-Test set split\n",
    "X_1 = rotterdam[['age','meno','size','grade','nodes','pgr','er','hormon','chemo','recur','dtime']]\n",
    "e_1 = rotterdam[['death']]\n",
    "\n",
    "X_train, X_test, e_train, e_test = train_test_split(X_1,e_1, test_size=0.2,stratify=e_1)\n",
    "X_train, X_val, e_train, e_val = train_test_split(X_train,e_train, test_size=0.2,stratify=e_train)\n",
    "\n",
    "# X, T, E split\n",
    "t_train = X_train['dtime']\n",
    "X_train = X_train[['age','meno','size','grade','nodes','pgr','er','hormon','chemo','recur']]\n",
    "\n",
    "t_test = X_test['dtime']\n",
    "X_test = X_test[['age','meno','size','grade','nodes','pgr','er','hormon','chemo','recur']]\n",
    "\n",
    "t_val = X_val['dtime']\n",
    "X_val = X_val[['age','meno','size','grade','nodes','pgr','er','hormon','chemo','recur']]\n",
    "\n",
    "# one hot encoding and scaling\n",
    "cat_v = ['meno','size','grade','hormon','chemo','recur']\n",
    "num_v = ['age','nodes','pgr','er']\n",
    "\n",
    "ohe = OneHotEncoder()\n",
    "ohe.fit(X_train[cat_v])\n",
    "\n",
    "scaler = StandardScaler()\n",
    "scaler.fit(X_train[num_v])\n",
    "\n",
    "X_train = np.concatenate((ohe.transform(X_train[cat_v]).toarray(),scaler.transform(X_train[num_v])), axis=1, out=None)\n",
    "X_test = np.concatenate((ohe.transform(X_test[cat_v]).toarray(),scaler.transform(X_test[num_v])), axis=1, out=None)\n",
    "X_val = np.concatenate((ohe.transform(X_val[cat_v]).toarray(),scaler.transform(X_val[num_v])), axis=1, out=None)\n",
    "\n",
    "# Back to df form to match deepsurv class\n",
    "# col 0 : time / col 1 : event / col rest : X\n",
    "train_df = pd.DataFrame(np.concatenate((np.array(t_train).reshape(-1,1),e_train,X_train),axis=1))\n",
    "test_df = pd.DataFrame(np.concatenate((np.array(t_test).reshape(-1,1),e_test,X_test),axis=1))\n",
    "val_df = pd.DataFrame(np.concatenate((np.array(t_val).reshape(-1,1),e_val,X_val),axis=1))"
   ]
  },
  {
   "cell_type": "code",
   "execution_count": 355,
   "metadata": {},
   "outputs": [
    {
     "name": "stdout",
     "output_type": "stream",
     "text": [
      "Model: \"sequential_19\"\n",
      "_________________________________________________________________\n",
      "Layer (type)                 Output Shape              Param #   \n",
      "=================================================================\n",
      "dense_50 (Dense)             (None, 19)                342       \n",
      "_________________________________________________________________\n",
      "dropout_31 (Dropout)         (None, 19)                0         \n",
      "_________________________________________________________________\n",
      "dense_51 (Dense)             (None, 16)                320       \n",
      "_________________________________________________________________\n",
      "dropout_32 (Dropout)         (None, 16)                0         \n",
      "_________________________________________________________________\n",
      "dense_52 (Dense)             (None, 1)                 16        \n",
      "=================================================================\n",
      "Total params: 678\n",
      "Trainable params: 678\n",
      "Non-trainable params: 0\n",
      "_________________________________________________________________\n"
     ]
    }
   ],
   "source": [
    "d = deepsurv(df=train_df,duration_col_name=0,event_col_name=1,\n",
    "             hidden_dim=[19,16],drop_out_rate=0.5,lr=0.001,l2=0.01)\n",
    "\n",
    "d.fit_data()\n",
    "\n",
    "X_train, T_train, E_train = d.transform_data(train_df) \n",
    "X_val, T_val, E_val = d.transform_data(val_df)\n",
    "X_test, T_test, E_test = d.transform_data(test_df)\n",
    "\n",
    "d.fit_model()\n",
    "d.model.summary()\n"
   ]
  },
  {
   "cell_type": "code",
   "execution_count": 356,
   "metadata": {},
   "outputs": [
    {
     "data": {
      "image/png": "[encoded data removed]",
      "text/plain": [
       "<Figure size 432x288 with 1 Axes>"
      ]
     },
     "metadata": {
      "needs_background": "light"
     },
     "output_type": "display_data"
    }
   ],
   "source": [
    "d.fit(X_val = X_val, T_val = T_val, E_val = E_val, epoch=3000)"
   ]
  },
  {
   "cell_type": "code",
   "execution_count": 357,
   "metadata": {},
   "outputs": [
    {
     "data": {
      "text/plain": [
       "<scipy.interpolate.interpolate.interp1d at 0x1f676ba7e50>"
      ]
     },
     "execution_count": 357,
     "metadata": {},
     "output_type": "execute_result"
    },
    {
     "data": {
      "image/png": "[encoded data removed]",
      "text/plain": [
       "<Figure size 432x288 with 2 Axes>"
      ]
     },
     "metadata": {
      "needs_background": "light"
     },
     "output_type": "display_data"
    }
   ],
   "source": [
    "d.fit_table()\n",
    "d.fit_baseline_Survival()"
   ]
  },
  {
   "cell_type": "code",
   "execution_count": 358,
   "metadata": {},
   "outputs": [
    {
     "name": "stdout",
     "output_type": "stream",
     "text": [
      "0.8040863730375549\n",
      "0.7794607206198962\n"
     ]
    }
   ],
   "source": [
    "from lifelines.utils import concordance_index\n",
    "print(concordance_index(d.T, -d.predict_partial_hazard(model = None,X = X_train), d.E))\n",
    "print(concordance_index(T_test, -d.predict_partial_hazard(model = None,X = X_test), E_test))"
   ]
  },
  {
   "cell_type": "code",
   "execution_count": 350,
   "metadata": {},
   "outputs": [
    {
     "name": "stdout",
     "output_type": "stream",
     "text": [
      "0.7848074178398445\n",
      "0.7906174949536621\n"
     ]
    }
   ],
   "source": [
    "from lifelines import CoxPHFitter\n",
    "cph_breslow = CoxPHFitter(baseline_estimation_method=\"breslow\",penalizer=0.1)\n",
    "cph_breslow.fit(df = d.df, duration_col = 0, event_col = 1, show_progress = False)\n",
    "\n",
    "print(concordance_index(d.T, -cph_breslow.predict_partial_hazard(d.X.numpy()), d.E))\n",
    "print(concordance_index(T_val, -cph_breslow.predict_partial_hazard(X_val.numpy()), E_val))"
   ]
  },
  {
   "cell_type": "code",
   "execution_count": null,
   "metadata": {},
   "outputs": [],
   "source": []
  },
  {
   "cell_type": "code",
   "execution_count": null,
   "metadata": {},
   "outputs": [],
   "source": []
  },
  {
   "cell_type": "code",
   "execution_count": null,
   "metadata": {},
   "outputs": [],
   "source": []
  },
  {
   "cell_type": "code",
   "execution_count": 127,
   "metadata": {},
   "outputs": [],
   "source": []
  },
  {
   "cell_type": "code",
   "execution_count": 133,
   "metadata": {},
   "outputs": [],
   "source": []
  },
  {
   "cell_type": "code",
   "execution_count": 134,
   "metadata": {},
   "outputs": [
    {
     "data": {
      "text/html": [
       "<div>\n",
       "<style scoped>\n",
       "    .dataframe tbody tr th:only-of-type {\n",
       "        vertical-align: middle;\n",
       "    }\n",
       "\n",
       "    .dataframe tbody tr th {\n",
       "        vertical-align: top;\n",
       "    }\n",
       "\n",
       "    .dataframe thead th {\n",
       "        text-align: right;\n",
       "    }\n",
       "</style>\n",
       "<table border=\"1\" class=\"dataframe\">\n",
       "  <thead>\n",
       "    <tr style=\"text-align: right;\">\n",
       "      <th></th>\n",
       "      <th>age</th>\n",
       "      <th>meno</th>\n",
       "      <th>size</th>\n",
       "      <th>grade</th>\n",
       "      <th>nodes</th>\n",
       "      <th>pgr</th>\n",
       "      <th>er</th>\n",
       "      <th>hormon</th>\n",
       "      <th>chemo</th>\n",
       "      <th>rtime</th>\n",
       "      <th>recur</th>\n",
       "      <th>dtime</th>\n",
       "      <th>death</th>\n",
       "    </tr>\n",
       "  </thead>\n",
       "  <tbody>\n",
       "    <tr>\n",
       "      <th>0</th>\n",
       "      <td>74</td>\n",
       "      <td>1</td>\n",
       "      <td>&lt;=20</td>\n",
       "      <td>3</td>\n",
       "      <td>0</td>\n",
       "      <td>35</td>\n",
       "      <td>291</td>\n",
       "      <td>0</td>\n",
       "      <td>0</td>\n",
       "      <td>1798.999948</td>\n",
       "      <td>0</td>\n",
       "      <td>1798.999948</td>\n",
       "      <td>0</td>\n",
       "    </tr>\n",
       "    <tr>\n",
       "      <th>1</th>\n",
       "      <td>79</td>\n",
       "      <td>1</td>\n",
       "      <td>20-50</td>\n",
       "      <td>3</td>\n",
       "      <td>0</td>\n",
       "      <td>36</td>\n",
       "      <td>611</td>\n",
       "      <td>0</td>\n",
       "      <td>0</td>\n",
       "      <td>2828.000021</td>\n",
       "      <td>0</td>\n",
       "      <td>2828.000021</td>\n",
       "      <td>0</td>\n",
       "    </tr>\n",
       "    <tr>\n",
       "      <th>2</th>\n",
       "      <td>44</td>\n",
       "      <td>0</td>\n",
       "      <td>&lt;=20</td>\n",
       "      <td>2</td>\n",
       "      <td>0</td>\n",
       "      <td>138</td>\n",
       "      <td>0</td>\n",
       "      <td>0</td>\n",
       "      <td>0</td>\n",
       "      <td>6011.999804</td>\n",
       "      <td>0</td>\n",
       "      <td>6011.999804</td>\n",
       "      <td>0</td>\n",
       "    </tr>\n",
       "    <tr>\n",
       "      <th>3</th>\n",
       "      <td>70</td>\n",
       "      <td>1</td>\n",
       "      <td>20-50</td>\n",
       "      <td>3</td>\n",
       "      <td>0</td>\n",
       "      <td>0</td>\n",
       "      <td>12</td>\n",
       "      <td>0</td>\n",
       "      <td>0</td>\n",
       "      <td>2623.999895</td>\n",
       "      <td>0</td>\n",
       "      <td>2623.999895</td>\n",
       "      <td>0</td>\n",
       "    </tr>\n",
       "    <tr>\n",
       "      <th>4</th>\n",
       "      <td>75</td>\n",
       "      <td>1</td>\n",
       "      <td>&lt;=20</td>\n",
       "      <td>3</td>\n",
       "      <td>0</td>\n",
       "      <td>260</td>\n",
       "      <td>409</td>\n",
       "      <td>0</td>\n",
       "      <td>0</td>\n",
       "      <td>4914.999997</td>\n",
       "      <td>0</td>\n",
       "      <td>4914.999997</td>\n",
       "      <td>0</td>\n",
       "    </tr>\n",
       "  </tbody>\n",
       "</table>\n",
       "</div>"
      ],
      "text/plain": [
       "   age  meno   size  grade  nodes  pgr   er  hormon  chemo        rtime  \\\n",
       "0   74     1   <=20      3      0   35  291       0      0  1798.999948   \n",
       "1   79     1  20-50      3      0   36  611       0      0  2828.000021   \n",
       "2   44     0   <=20      2      0  138    0       0      0  6011.999804   \n",
       "3   70     1  20-50      3      0    0   12       0      0  2623.999895   \n",
       "4   75     1   <=20      3      0  260  409       0      0  4914.999997   \n",
       "\n",
       "   recur        dtime  death  \n",
       "0      0  1798.999948      0  \n",
       "1      0  2828.000021      0  \n",
       "2      0  6011.999804      0  \n",
       "3      0  2623.999895      0  \n",
       "4      0  4914.999997      0  "
      ]
     },
     "execution_count": 134,
     "metadata": {},
     "output_type": "execute_result"
    }
   ],
   "source": []
  },
  {
   "cell_type": "code",
   "execution_count": null,
   "metadata": {},
   "outputs": [],
   "source": []
  },
  {
   "cell_type": "code",
   "execution_count": null,
   "metadata": {},
   "outputs": [],
   "source": []
  },
  {
   "cell_type": "code",
   "execution_count": null,
   "metadata": {},
   "outputs": [],
   "source": []
  },
  {
   "cell_type": "code",
   "execution_count": null,
   "metadata": {},
   "outputs": [],
   "source": []
  },
  {
   "cell_type": "code",
   "execution_count": null,
   "metadata": {},
   "outputs": [],
   "source": []
  },
  {
   "cell_type": "code",
   "execution_count": null,
   "metadata": {},
   "outputs": [],
   "source": []
  }
 ],
 "metadata": {
  "kernelspec": {
   "display_name": "Python 3",
   "language": "python",
   "name": "python3"
  },
  "language_info": {
   "codemirror_mode": {
    "name": "ipython",
    "version": 3
   },
   "file_extension": ".py",
   "mimetype": "text/x-python",
   "name": "python",
   "nbconvert_exporter": "python",
   "pygments_lexer": "ipython3",
   "version": "3.6.13"
  }
 },
 "nbformat": 4,
 "nbformat_minor": 4
}
